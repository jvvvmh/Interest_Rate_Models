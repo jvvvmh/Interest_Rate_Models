{
 "cells": [
  {
   "cell_type": "markdown",
   "metadata": {},
   "source": [
    "# Bootstrap\n",
    "\n",
    "In the attached Excel file you can find data from European money and swap markets for spot date October 3, 2012. Daycount convention is actual/360. Euro denominated swaps have annual paying fixed leg.\n",
    "\n",
    "Build the discount curve using the bootstrap method explained in the lecture. Report the simple forward rate over the future period October 4, 2041 to October 3, 2042. Express your answer in percentage points and round to 2 decimal places."
   ]
  },
  {
   "cell_type": "code",
   "execution_count": 1,
   "metadata": {},
   "outputs": [],
   "source": [
    "import pandas as pd\n",
    "import numpy as np\n",
    "import seaborn as sns\n",
    "sns.set()"
   ]
  },
  {
   "cell_type": "code",
   "execution_count": 2,
   "metadata": {},
   "outputs": [],
   "source": [
    "from datetime import datetime, date, timedelta\n",
    "from dateutil.relativedelta import relativedelta"
   ]
  },
  {
   "cell_type": "code",
   "execution_count": 3,
   "metadata": {},
   "outputs": [],
   "source": [
    "s = date(2012, 10, 3) # spot date\n",
    "\n",
    "data = \"\"\"2012/10/4\t0.095\tLIBOR\n",
    "2012/11/5\t0.116\tLIBOR\n",
    "2013/1/3\t0.223\tLIBOR\n",
    "2013/4/3\t0.438\tLIBOR\n",
    "2013/6/19\t99.786\tFutures\n",
    "2013/9/18\t99.752\tFutures\n",
    "2013/12/18\t99.723\tFutures\n",
    "2014/3/19\t99.669\tFutures\n",
    "2014/10/3\t0.475\tSwap\n",
    "2015/10/5\t0.586\tSwap\n",
    "2016/10/3\t0.752\tSwap\n",
    "2017/10/3\t0.942\tSwap\n",
    "2019/10/3\t1.324\tSwap\n",
    "2022/10/3\t1.739\tSwap\n",
    "2027/10/4\t2.165\tSwap\n",
    "2032/10/4\t2.280\tSwap\n",
    "2042/10/3\t2.332\tSwap\n",
    "\"\"\"\n",
    "LIBOR_data = pd.Series(dtype='float')\n",
    "Futures_data = pd.Series(dtype='float')\n",
    "Swap_data = pd.Series(dtype='float')\n",
    "\n",
    "for line in data.splitlines():\n",
    "    t, quote, type_ = line.split('\\t')\n",
    "    t = datetime.strptime(t, \"%Y/%m/%d\").date()\n",
    "    quote = float(quote)\n",
    "    if type_ == 'LIBOR':\n",
    "        simple_rate = quote / 100\n",
    "        LIBOR_data[t] = simple_rate\n",
    "    elif type_ == 'Futures':\n",
    "        futures_rate = (100 - quote) / 100\n",
    "        Futures_data[t] = futures_rate\n",
    "    elif type_ == 'Swap':\n",
    "        swap_rate = quote / 100\n",
    "        Swap_data[t] = swap_rate"
   ]
  },
  {
   "cell_type": "code",
   "execution_count": 4,
   "metadata": {},
   "outputs": [
    {
     "data": {
      "image/png": "[encoded data removed]",
      "text/plain": [
       "<Figure size 1440x288 with 1 Axes>"
      ]
     },
     "metadata": {
      "needs_background": "light"
     },
     "output_type": "display_data"
    }
   ],
   "source": [
    "from matplotlib import pyplot as plt\n",
    "\n",
    "fig = plt.figure(figsize=(20, 4))\n",
    "ax = fig.add_subplot(111)\n",
    "ax.get_yaxis().set_visible(False)\n",
    "\n",
    "\n",
    "def Show_Time_Data(ax, *time_lists):\n",
    "    xticks = []\n",
    "    xticklabels = []\n",
    "    i = -1\n",
    "    colors = ['blue', 'green', 'red']\n",
    "    for time_list in time_lists:\n",
    "        i += 1\n",
    "        dt = [np.sqrt((t - s).days) for t in time_list]\n",
    "        y = np.zeros(len(dt))\n",
    "        ax.scatter(x=dt, y=y, c=colors[i])\n",
    "        xticks += dt\n",
    "        xticklabels += list(time_list)\n",
    "        if i == 1: # futures\n",
    "            tmp = time_list[0] - relativedelta(months=3)\n",
    "            ax.scatter(x=np.sqrt((tmp - s).days), y=0, color=colors[i], alpha=0.5, marker='*')\n",
    "        if i == 2: # swaps\n",
    "            tmp = time_list[0] - relativedelta(years=1)\n",
    "            while tmp.year < 2042:\n",
    "                ax.scatter(x=np.sqrt((tmp - s).days), y=0, color=colors[i], alpha=0.5, marker='*')\n",
    "                tmp = tmp + relativedelta(years=1)\n",
    "                \n",
    "    ax.set_xticks(xticks)\n",
    "    ax.set_xticklabels(xticklabels, rotation=60)\n",
    "    ax.scatter(x=0, y=0, color='yellow', marker='*') # spot date\n",
    "    ax.annotate('spot', xy=(0,0), xytext=(-1,0.005))\n",
    "    \n",
    "Show_Time_Data(ax, LIBOR_data.keys().values, Futures_data.keys().values, Swap_data.keys().values)"
   ]
  },
  {
   "cell_type": "code",
   "execution_count": 5,
   "metadata": {},
   "outputs": [],
   "source": [
    "discounted_price_bootstrap = pd.Series(dtype='float')\n",
    "simple_rate_bootstrap = pd.Series(dtype='float')"
   ]
  },
  {
   "cell_type": "code",
   "execution_count": 6,
   "metadata": {},
   "outputs": [
    {
     "data": {
      "text/plain": [
       "2012-10-04    0.00095\n",
       "2012-11-05    0.00116\n",
       "2013-01-03    0.00223\n",
       "2013-04-03    0.00438\n",
       "dtype: float64"
      ]
     },
     "execution_count": 6,
     "metadata": {},
     "output_type": "execute_result"
    }
   ],
   "source": [
    "LIBOR_data"
   ]
  },
  {
   "cell_type": "code",
   "execution_count": 7,
   "metadata": {},
   "outputs": [],
   "source": [
    "def Interpolate(t, t1, v1, t2, v2):\n",
    "    dt1 = (t - t1).days\n",
    "    dt2 = (t2 - t).days\n",
    "    w1 = dt2 / (dt1 + dt2)\n",
    "    w2 = dt1 / (dt1 + dt2)\n",
    "    v = w1 * v1 + w2 * v2\n",
    "    return v\n",
    "\n",
    "def Find_Interpolation_Place(lst, target):\n",
    "    lst = sorted(lst)\n",
    "    i = 0\n",
    "    while i < len(lst) and target > lst[i]:\n",
    "        i += 1\n",
    "    if i == len(lst):\n",
    "        return lst[-2], lst[-1]\n",
    "    if i == 0:\n",
    "        return lst[0], lst[1]\n",
    "    return lst[i - 1], lst[i]"
   ]
  },
  {
   "cell_type": "code",
   "execution_count": 8,
   "metadata": {
    "scrolled": true
   },
   "outputs": [],
   "source": [
    "# (1) LIRBOR\n",
    "\n",
    "for t, simple_rate in LIBOR_data.items():\n",
    "    dt = (t - s).days / 360\n",
    "    price = 1 / (1 + simple_rate * dt)\n",
    "    discounted_price_bootstrap[t] = price\n",
    "    simple_rate_bootstrap[t] = simple_rate\n",
    "\n",
    "# (2) Futures\n",
    "\n",
    "# --- use the last two LIBOR rates to interpolate\n",
    "# --- (last two blue -> star green)\n",
    "t_futures_star = Futures_data.index[0] - relativedelta(months=3)\n",
    "simple_rate_futures_star = Interpolate(t=t_futures_star, t1=LIBOR_data.index[-2], v1=LIBOR_data.iloc[-2], t2=LIBOR_data.index[-1], v2=LIBOR_data.iloc[-1])\n",
    "price_futures_star = 1 / (1 + simple_rate_futures_star * (t_futures_star - s).days / 360)\n",
    "discounted_price_bootstrap[t_futures_star] = price_futures_star\n",
    "simple_rate_bootstrap[t_futures_star] = simple_rate_futures_star\n",
    "\n",
    "# --- use futures as proxy for forward rate\n",
    "last_t = t_futures_star\n",
    "last_price = price_futures_star\n",
    "for t, futures_rate in Futures_data.items():\n",
    "    dt = (t - last_t).days / 360\n",
    "    price = last_price / (1 + futures_rate * dt)\n",
    "    simple_rate =  (1 / price - 1) / ((t - s).days / 360)\n",
    "    # update\n",
    "    discounted_price_bootstrap[t] = price\n",
    "    simple_rate_bootstrap[t] = simple_rate\n",
    "    last_t = t\n",
    "    last_price = price\n",
    "    \n",
    "\n",
    "# (3) Swap\n",
    "# --- use the nearest two simple rates (futures) to interpolate\n",
    "# --- nearest two green -> star red\n",
    "# --- star red: first swap contract, only pay once => swap rate = simple rate\n",
    "t_swap_star = Swap_data.index[0] - relativedelta(years=1)\n",
    "t1, t2 = Find_Interpolation_Place(simple_rate_bootstrap.index.values, t_swap_star)\n",
    "simple_rate_swap_star = Interpolate(t=t_swap_star, t1=t1, v1=simple_rate_bootstrap[t1], t2=t2, v2=simple_rate_bootstrap[t2])\n",
    "price_swap_star = 1 / (1 + simple_rate_swap_star * (t_swap_star - s). days / 360) # discounted bond price at red star\n",
    "discounted_price_bootstrap[t_swap_star] = price_swap_star\n",
    "simple_rate_bootstrap[t_swap_star] = simple_rate_swap_star\n",
    "\n",
    "\n",
    "simple_rate_bootstrap = simple_rate_bootstrap.sort_index()\n",
    "discounted_price_bootstrap = discounted_price_bootstrap.sort_index()\n",
    "\n",
    "# swap rate interpolation\n",
    "swap_dates= Swap_data.index.values\n",
    "swap_rates = pd.Series(dtype='float')\n",
    "swap_rates[t_swap_star] = simple_rate_swap_star\n",
    "for i in range(len(swap_dates)):\n",
    "    t = swap_dates[i]\n",
    "    swap_rates[t] = Swap_data[t]\n",
    "    if i == len(swap_dates) - 1:\n",
    "        break\n",
    "    if swap_dates[i + 1].year > t.year + 1:\n",
    "        for dy in range(1, swap_dates[i + 1].year - t.year): # delta year\n",
    "            tmp = date(t.year + dy, t.month, t.day)\n",
    "            swap_rate = Interpolate(t=tmp, t1=t, v1=Swap_data[t], t2=swap_dates[i + 1], v2=Swap_data[swap_dates[i + 1]])\n",
    "            swap_rates[tmp] = swap_rate\n",
    "\n",
    "dt_list = [(t_swap_star - s).days / 360]\n",
    "P_list = [price_swap_star]\n",
    "for i in range(1, len(swap_rates)):\n",
    "    t = swap_rates.index[i]\n",
    "    swap_rate = swap_rates[t]\n",
    "    last_t = swap_rates.index[i - 1]\n",
    "    dt = (t - last_t).days / 360\n",
    "    price = (1  - swap_rate * (np.array(dt_list) @ np.array(P_list))) / (1 + swap_rate * dt)\n",
    "    dt_list.append(dt)\n",
    "    P_list.append(price)\n",
    "    # update\n",
    "    discounted_price_bootstrap[t] = price\n",
    "    simple_rate_bootstrap[t] = (1 / price - 1) / ((t - s).days / 360)"
   ]
  },
  {
   "cell_type": "code",
   "execution_count": 9,
   "metadata": {},
   "outputs": [
    {
     "data": {
      "text/plain": [
       "2012-10-04    0.999997\n",
       "2012-11-05    0.999894\n",
       "2013-01-03    0.999430\n",
       "2013-03-19    0.998138\n",
       "2013-04-03    0.997791\n",
       "2013-06-19    0.997592\n",
       "2013-09-18    0.996967\n",
       "2013-10-03    0.996850\n",
       "2013-12-18    0.996270\n",
       "2014-03-19    0.995437\n",
       "2014-10-03    0.990429\n",
       "2015-10-05    0.982324\n",
       "2016-10-03    0.969942\n",
       "2017-10-03    0.953244\n",
       "2018-10-03    0.933045\n",
       "2019-10-03    0.909548\n",
       "2020-10-03    0.886893\n",
       "2021-10-03    0.862211\n",
       "2022-10-03    0.835582\n",
       "2023-10-03    0.812509\n",
       "2024-10-03    0.788431\n",
       "2025-10-03    0.763560\n",
       "2026-10-03    0.737912\n",
       "2027-10-04    0.711497\n",
       "2028-10-04    0.693011\n",
       "2029-10-04    0.674663\n",
       "2030-10-04    0.656415\n",
       "2031-10-04    0.638275\n",
       "2032-10-04    0.620207\n",
       "2033-10-04    0.605316\n",
       "2034-10-04    0.590701\n",
       "2035-10-04    0.576357\n",
       "2036-10-04    0.562244\n",
       "2037-10-04    0.548432\n",
       "2038-10-04    0.534880\n",
       "2039-10-04    0.521584\n",
       "2040-10-04    0.508505\n",
       "2041-10-04    0.495710\n",
       "2042-10-03    0.483193\n",
       "dtype: float64"
      ]
     },
     "execution_count": 9,
     "metadata": {},
     "output_type": "execute_result"
    }
   ],
   "source": [
    "discounted_price_bootstrap"
   ]
  },
  {
   "cell_type": "markdown",
   "metadata": {},
   "source": [
    "## Question\n",
    "\n",
    "Build the discount curve using the bootstrap method explained in the lecture. Report the simple forward rate over the future period October 4, 2041 to October 3, 2042. Express your answer in percentage points and round to 2 decimal places.\n",
    "\n"
   ]
  },
  {
   "cell_type": "code",
   "execution_count": 10,
   "metadata": {},
   "outputs": [
    {
     "name": "stdout",
     "output_type": "stream",
     "text": [
      "2.56\n"
     ]
    }
   ],
   "source": [
    "p1, p2 = discounted_price_bootstrap.values[-2], discounted_price_bootstrap[-1]\n",
    "t1, t2 = discounted_price_bootstrap.index[-2], discounted_price_bootstrap.index[-1]\n",
    "dt = (t2 - t1).days / 360\n",
    "r = (p1 / p2 - 1) / dt\n",
    "print(f\"{r * 100:.3}\")"
   ]
  },
  {
   "cell_type": "code",
   "execution_count": null,
   "metadata": {},
   "outputs": [],
   "source": []
  }
 ],
 "metadata": {
  "kernelspec": {
   "display_name": "Python 3",
   "language": "python",
   "name": "python3"
  },
  "language_info": {
   "codemirror_mode": {
    "name": "ipython",
    "version": 3
   },
   "file_extension": ".py",
   "mimetype": "text/x-python",
   "name": "python",
   "nbconvert_exporter": "python",
   "pygments_lexer": "ipython3",
   "version": "3.7.7"
  },
  "toc": {
   "base_numbering": 1,
   "nav_menu": {},
   "number_sections": true,
   "sideBar": true,
   "skip_h1_title": false,
   "title_cell": "Table of Contents",
   "title_sidebar": "Contents",
   "toc_cell": false,
   "toc_position": {},
   "toc_section_display": true,
   "toc_window_display": true
  }
 },
 "nbformat": 4,
 "nbformat_minor": 2
}
