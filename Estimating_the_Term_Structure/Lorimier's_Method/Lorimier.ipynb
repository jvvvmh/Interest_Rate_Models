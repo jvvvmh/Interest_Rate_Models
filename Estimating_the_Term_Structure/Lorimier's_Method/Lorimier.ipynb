{
 "cells": [
  {
   "cell_type": "markdown",
   "metadata": {},
   "source": [
    "# Lorimier's Method\n",
    "\n",
    "Below are the yields (in percentage points) on Swiss government bonds as of July 2015:\n",
    "Construct the forward curve using Lorimier's method for $\\alpha=0.1$. Report the yield on a zero-coupon bond with 6 years to maturity. Express your answer in percentage points and round to 2 decimal places."
   ]
  },
  {
   "cell_type": "code",
   "execution_count": 1,
   "metadata": {},
   "outputs": [
    {
     "data": {
      "text/plain": [
       "{2: -0.0079,\n",
       " 3: -0.0073,\n",
       " 4: -0.006500000000000001,\n",
       " 5: -0.0055000000000000005,\n",
       " 7: -0.0033,\n",
       " 10: -0.0004,\n",
       " 20: 0.0054,\n",
       " 30: 0.0073}"
      ]
     },
     "execution_count": 1,
     "metadata": {},
     "output_type": "execute_result"
    }
   ],
   "source": [
    "dict_y = {2:-0.79, 3:-0.73, 4:-0.65, 5:-0.55, 7:-0.33, 10:-0.04, 20:0.54, 30:0.73}\n",
    "for k, v in dict_y.items():\n",
    "    dict_y[k] = v / 100\n",
    "dict_y"
   ]
  },
  {
   "cell_type": "code",
   "execution_count": 2,
   "metadata": {},
   "outputs": [
    {
     "name": "stdout",
     "output_type": "stream",
     "text": [
      "[ 0.      -0.00158 -0.00219 -0.0026  -0.00275 -0.00231 -0.0004   0.0108\n",
      "  0.0219 ]\n"
     ]
    }
   ],
   "source": [
    "import numpy as np\n",
    "\n",
    "def H_i(T_i, x):\n",
    "    return T_i + T_i * min(T_i, x) - (min(T_i, x)) ** 2 / 2\n",
    "def integral_1(T_i, u):\n",
    "    return T_i * u + T_i * u**2 / 2 - u**3 / 6\n",
    "\n",
    "def integral_2(T_i, x):\n",
    "    return (T_i + T_i**2 / 2) * (x - T_i)\n",
    "\n",
    "class Lorimier:\n",
    "    def __init__(self, name): \n",
    "        self.T_list = list(dict_y.keys())\n",
    "        self.y_list = list(dict_y.values())\n",
    "        self.N = len(self.T_list)\n",
    "        self.alpha = 0.1\n",
    "        self.dict_product = self.solveProduct()\n",
    "        self.beta = self.solveBeta()\n",
    "    \n",
    "    def solveProduct(self):\n",
    "        N = self.N\n",
    "        T_list = self.T_list\n",
    "        d = {}\n",
    "        for i in range(N):\n",
    "            for j in range(i + 1):\n",
    "                d[(i, j)] = -(min(T_list[i], T_list[j])) ** 3 / 6 + T_list[i] * T_list[j] * (1 + min(T_list[i], T_list[j]) / 2)\n",
    "        return d\n",
    "    \n",
    "    def solveBeta(self):\n",
    "        alpha = self.alpha\n",
    "        N = self.N\n",
    "        T_list = self.T_list\n",
    "        \n",
    "        A = np.zeros((N + 1, N + 1), dtype='float')\n",
    "        b = np.zeros((N + 1,), dtype='float')\n",
    "        A[0:1, 1:] = T_list\n",
    "        \n",
    "        for i in range(N):\n",
    "            A[i + 1][0] = alpha * T_list[i] # beta_0\n",
    "            for j in range(N):\n",
    "                key = (i, j) if i > j else (j, i)\n",
    "                A[i + 1][j + 1] = alpha * self.dict_product[key]\n",
    "            A[i + 1][i + 1] += 1\n",
    "            b[i + 1] = alpha * self.y_list[i] * self.T_list[i]\n",
    "        print(b)\n",
    "        return np.linalg.inv(A) @ b\n",
    "    \n",
    "    def f(self, x): # instantaneous forward rate\n",
    "        res = self.beta[0]\n",
    "        for i in range(1, len(self.beta)):\n",
    "            res += self.beta[i] * H_i(self.T_list[i - 1], x)\n",
    "        return res        \n",
    "    \n",
    "    def integral_1(T_i, u):\n",
    "        return T_i * u + T_i * u**2 / 2 - u**3 / 6\n",
    "    \n",
    "    def integral_2(T_i, x):\n",
    "        return (T_i + T_i**2 / 2) * (x - T_i)\n",
    "        \n",
    "    def __call__(self, x): # yield\n",
    "        res = 0\n",
    "        for i in range(self.N):\n",
    "            T_i = self.T_list[i]\n",
    "            if T_i < x:\n",
    "                res += self.beta[i + 1] * (integral_1(T_i, T_i) + integral_2(T_i ,x))\n",
    "            else:\n",
    "                res += self.beta[i + 1] * (integral_1(T_i, x))\n",
    "                \n",
    "        return res / x + self.beta[0]\n",
    "\n",
    "model = Lorimier(dict_y)"
   ]
  },
  {
   "cell_type": "code",
   "execution_count": 3,
   "metadata": {},
   "outputs": [
    {
     "data": {
      "text/plain": [
       "-0.41377721233020487"
      ]
     },
     "execution_count": 3,
     "metadata": {},
     "output_type": "execute_result"
    }
   ],
   "source": [
    "model(6) * 100"
   ]
  },
  {
   "cell_type": "code",
   "execution_count": null,
   "metadata": {},
   "outputs": [],
   "source": []
  }
 ],
 "metadata": {
  "kernelspec": {
   "display_name": "Python 3",
   "language": "python",
   "name": "python3"
  },
  "language_info": {
   "codemirror_mode": {
    "name": "ipython",
    "version": 3
   },
   "file_extension": ".py",
   "mimetype": "text/x-python",
   "name": "python",
   "nbconvert_exporter": "python",
   "pygments_lexer": "ipython3",
   "version": "3.7.7"
  },
  "toc": {
   "base_numbering": 1,
   "nav_menu": {},
   "number_sections": true,
   "sideBar": true,
   "skip_h1_title": false,
   "title_cell": "Table of Contents",
   "title_sidebar": "Contents",
   "toc_cell": false,
   "toc_position": {},
   "toc_section_display": true,
   "toc_window_display": true
  }
 },
 "nbformat": 4,
 "nbformat_minor": 2
}
