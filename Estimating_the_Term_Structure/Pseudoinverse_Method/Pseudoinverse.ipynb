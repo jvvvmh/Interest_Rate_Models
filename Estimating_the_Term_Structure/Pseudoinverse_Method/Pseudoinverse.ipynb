{
 "cells": [
  {
   "cell_type": "markdown",
   "metadata": {},
   "source": [
    "# Bootstrap\n",
    "\n",
    "In the attached Excel file you can find data from European money and swap markets for spot date October 3, 2012. Daycount convention is actual/360. Euro denominated swaps have annual paying fixed leg.\n",
    "\n",
    "Build the discount curve using the bootstrap method explained in the lecture. Report the simple forward rate over the future period October 4, 2041 to October 3, 2042. Express your answer in percentage points and round to 2 decimal places."
   ]
  },
  {
   "cell_type": "code",
   "execution_count": 1,
   "metadata": {},
   "outputs": [],
   "source": [
    "import pandas as pd\n",
    "import numpy as np\n",
    "import seaborn as sns\n",
    "sns.set()"
   ]
  },
  {
   "cell_type": "code",
   "execution_count": 2,
   "metadata": {},
   "outputs": [],
   "source": [
    "from datetime import datetime, date, timedelta\n",
    "from dateutil.relativedelta import relativedelta"
   ]
  },
  {
   "cell_type": "code",
   "execution_count": 3,
   "metadata": {},
   "outputs": [],
   "source": [
    "s = date(2012, 10, 3) # spot date\n",
    "\n",
    "data = \"\"\"2012/10/4\t0.095\tLIBOR\n",
    "2012/11/5\t0.116\tLIBOR\n",
    "2013/1/3\t0.223\tLIBOR\n",
    "2013/4/3\t0.438\tLIBOR\n",
    "2013/6/19\t99.786\tFutures\n",
    "2013/9/18\t99.752\tFutures\n",
    "2013/12/18\t99.723\tFutures\n",
    "2014/3/19\t99.669\tFutures\n",
    "2014/10/3\t0.475\tSwap\n",
    "2015/10/5\t0.586\tSwap\n",
    "2016/10/3\t0.752\tSwap\n",
    "2017/10/3\t0.942\tSwap\n",
    "2019/10/3\t1.324\tSwap\n",
    "2022/10/3\t1.739\tSwap\n",
    "2027/10/4\t2.165\tSwap\n",
    "2032/10/4\t2.280\tSwap\n",
    "2042/10/3\t2.332\tSwap\n",
    "\"\"\"\n",
    "LIBOR_data = pd.Series(dtype='float')\n",
    "Futures_data = pd.Series(dtype='float')\n",
    "Swap_data = pd.Series(dtype='float')\n",
    "\n",
    "for line in data.splitlines():\n",
    "    t, quote, type_ = line.split('\\t')\n",
    "    t = datetime.strptime(t, \"%Y/%m/%d\").date()\n",
    "    quote = float(quote)\n",
    "    if type_ == 'LIBOR':\n",
    "        simple_rate = quote / 100\n",
    "        LIBOR_data[t] = simple_rate\n",
    "    elif type_ == 'Futures':\n",
    "        futures_rate = (100 - quote) / 100\n",
    "        Futures_data[t] = futures_rate\n",
    "    elif type_ == 'Swap':\n",
    "        swap_rate = quote / 100\n",
    "        Swap_data[t] = swap_rate"
   ]
  },
  {
   "cell_type": "code",
   "execution_count": 4,
   "metadata": {},
   "outputs": [
    {
     "data": {
      "image/png": "[encoded data removed]",
      "text/plain": [
       "<Figure size 1440x288 with 1 Axes>"
      ]
     },
     "metadata": {
      "needs_background": "light"
     },
     "output_type": "display_data"
    }
   ],
   "source": [
    "from matplotlib import pyplot as plt\n",
    "\n",
    "fig = plt.figure(figsize=(20, 4))\n",
    "ax = fig.add_subplot(111)\n",
    "ax.get_yaxis().set_visible(False)\n",
    "\n",
    "\n",
    "def Show_Time_Data(ax, *time_lists):\n",
    "    xticks = []\n",
    "    xticklabels = []\n",
    "    i = -1\n",
    "    colors = ['blue', 'green', 'red']\n",
    "    for time_list in time_lists:\n",
    "        i += 1\n",
    "        dt = [np.sqrt((t - s).days) for t in time_list]\n",
    "        y = np.zeros(len(dt))\n",
    "        ax.scatter(x=dt, y=y, c=colors[i])\n",
    "        xticks += dt\n",
    "        xticklabels += list(time_list)\n",
    "        if i == 1: # futures\n",
    "            tmp = time_list[0] - relativedelta(months=3)\n",
    "            ax.scatter(x=np.sqrt((tmp - s).days), y=0, color=colors[i], alpha=0.5, marker='*')\n",
    "        if i == 2: # swaps\n",
    "            tmp = time_list[0] - relativedelta(years=1)\n",
    "            while tmp.year < 2042:\n",
    "                ax.scatter(x=np.sqrt((tmp - s).days), y=0, color=colors[i], alpha=0.5, marker='*')\n",
    "                tmp = tmp + relativedelta(years=1)\n",
    "                \n",
    "    ax.set_xticks(xticks)\n",
    "    ax.set_xticklabels(xticklabels, rotation=60)\n",
    "    ax.scatter(x=0, y=0, color='yellow', marker='*') # spot date\n",
    "    ax.annotate('spot', xy=(0,0), xytext=(-1,0.005))\n",
    "    \n",
    "Show_Time_Data(ax, LIBOR_data.keys().values, Futures_data.keys().values, Swap_data.keys().values)"
   ]
  },
  {
   "cell_type": "code",
   "execution_count": 5,
   "metadata": {},
   "outputs": [],
   "source": [
    "# Building C matrix, p array\n",
    "# Cd = p\n",
    "\n",
    "p_list = []\n",
    "cash_flow_list = [] # each element is a list of cash flows for one instrument\n",
    "cash_flow_time_list = [] # relative time list\n",
    "\n",
    "t_set = []"
   ]
  },
  {
   "cell_type": "code",
   "execution_count": 6,
   "metadata": {},
   "outputs": [],
   "source": [
    "# (1) LIBOR, price=1, pay=1 + r*t\n",
    "\n",
    "for t, simple_rate in LIBOR_data.items():\n",
    "    dt = (t - s).days / 360\n",
    "    pay = 1 + simple_rate * dt\n",
    "    # update\n",
    "    p_list.append(1)\n",
    "    cash_flow_list.append([pay])\n",
    "    cash_flow_time_list.append([t])\n",
    "    t_set.append(t)"
   ]
  },
  {
   "cell_type": "code",
   "execution_count": 7,
   "metadata": {},
   "outputs": [],
   "source": [
    "# (2) Futures, regarded as 3-month FRA\n",
    "# t1: -1\n",
    "# t2: 1 + r*t\n",
    "# price=0\n",
    "last_t = Futures_data.index[0] - relativedelta(months=3)\n",
    "t_set.append(last_t)\n",
    "\n",
    "for t, futures_rate in Futures_data.items():\n",
    "    dt = (t - last_t).days / 360\n",
    "    pay = 1 + futures_rate * dt\n",
    "    # update\n",
    "    p_list.append(0)\n",
    "    cash_flow_list.append([-1, pay])\n",
    "    cash_flow_time_list.append([last_t, t])\n",
    "    t_set.append(t)\n",
    "    last_t = t"
   ]
  },
  {
   "cell_type": "code",
   "execution_count": 8,
   "metadata": {},
   "outputs": [
    {
     "data": {
      "text/plain": [
       "[[1.000002638888889],\n",
       " [1.0001063333333333],\n",
       " [1.000569888888889],\n",
       " [1.0022143333333333],\n",
       " [-1, 1.0005468888888889],\n",
       " [-1, 1.000626888888889],\n",
       " [-1, 1.0007001944444445],\n",
       " [-1, 1.0008366944444445]]"
      ]
     },
     "execution_count": 8,
     "metadata": {},
     "output_type": "execute_result"
    }
   ],
   "source": [
    "cash_flow_list"
   ]
  },
  {
   "cell_type": "code",
   "execution_count": 9,
   "metadata": {},
   "outputs": [],
   "source": [
    "# (3) Swap, dt=1 year\n",
    "# price=1\n",
    "# cash flow: R*dt_i\n",
    "import copy\n",
    "\n",
    "last_t = Swap_data.index[0] - relativedelta(years=1) # first payment\n",
    "\n",
    "swap_time_list = [last_t] # U1, ..., Uk\n",
    "swap_dt_list = [(last_t - s).days / 360]  # dt1, ..., dtk\n",
    "\n",
    "for t, swap_rate in Swap_data.items():\n",
    "    # years not shown:\n",
    "    gap = t.year - last_t.year\n",
    "    for dy in range(1, gap): # if gap=2, then range (1, 2)\n",
    "        tmp = last_t + relativedelta(years=1)\n",
    "        swap_time_list.append(tmp)\n",
    "        swap_dt_list.append((tmp - last_t).days / 360)\n",
    "        last_t = tmp\n",
    "    # t\n",
    "    swap_time_list.append(t)\n",
    "    swap_dt_list.append((t - last_t).days / 360)\n",
    "    last_t = t\n",
    "    \n",
    "    # given swap_time_list, swap_dt_list at time t\n",
    "    # build cash flow & p_list\n",
    "    p_list.append(1)\n",
    "    this_cash_flow = swap_rate * np.array(swap_dt_list)\n",
    "    this_cash_flow[-1] = this_cash_flow[-1] + 1\n",
    "    cash_flow_list.append(this_cash_flow)\n",
    "    cash_flow_time_list.append(copy.copy(swap_time_list))\n",
    "\n",
    "t_set += swap_time_list"
   ]
  },
  {
   "cell_type": "code",
   "execution_count": 10,
   "metadata": {},
   "outputs": [],
   "source": [
    "t_set = sorted(list(set(t_set)))\n",
    "time2index = {t_set[i]:i  for i in range(len(t_set))}\n",
    "nRows = len(LIBOR_data) + len(Futures_data) + len(Swap_data)\n",
    "nCols = len(t_set)\n",
    "\n",
    "C = np.zeros((nRows, nCols))\n",
    "\n",
    "for i in range(len(cash_flow_list)):\n",
    "    cash_flow = cash_flow_list[i] # list\n",
    "    cash_flow_time = cash_flow_time_list[i] # list\n",
    "    cash_flow_time = [time2index[x] for x in cash_flow_time]\n",
    "    C[i: i + 1, cash_flow_time] = cash_flow\n"
   ]
  },
  {
   "cell_type": "code",
   "execution_count": 11,
   "metadata": {},
   "outputs": [
    {
     "data": {
      "text/plain": [
       "array([-2.63888193e-06, -1.03683146e-04, -4.63242273e-04, -1.59093929e-03,\n",
       "       -4.89373088e-05, -4.96471747e-04, -6.24800902e-04, -1.23241897e-04,\n",
       "       -5.74132103e-04, -8.32627511e-04, -4.70851011e-03, -8.10453919e-03,\n",
       "       -1.23815892e-02, -1.66980720e-02, -2.20128198e-02, -2.16574668e-02,\n",
       "       -2.50770382e-02, -2.46023043e-02, -2.41971969e-02, -2.56104679e-02,\n",
       "       -2.52422676e-02, -2.47349337e-02, -2.42977654e-02, -2.39259687e-02,\n",
       "       -1.89611978e-02, -1.85703567e-02, -1.82322484e-02, -1.78941401e-02,\n",
       "       -1.76041306e-02, -1.49911968e-02, -1.47045416e-02, -1.44178864e-02,\n",
       "       -1.41699469e-02, -1.38437907e-02, -1.35571355e-02, -1.32704803e-02,\n",
       "       -1.30193972e-02, -1.26963846e-02, -1.23757301e-02])"
      ]
     },
     "execution_count": 11,
     "metadata": {},
     "output_type": "execute_result"
    }
   ],
   "source": [
    "tmp = [s] + t_set\n",
    "tmp = [((tmp[i] - tmp[i-1]).days / 360) ** -0.5 for i in range(1, len(tmp))]\n",
    "W = np.diag(tmp)\n",
    "M = np.zeros_like(W)\n",
    "for i in range(len(M)):\n",
    "    M[i][i] = 1\n",
    "    if i != 0:\n",
    "        M[i][i - 1] = -1\n",
    "\n",
    "A = C @ np.linalg.inv(M) @ np.linalg.inv(W)\n",
    "tmp_array = np.zeros((len(M),), dtype='float')\n",
    "tmp_array[0] = 1\n",
    "p_array = np.array(p_list, dtype='float')\n",
    "delta_star = A.T @ np.linalg.inv(A @ A.T) @ (p_array - C @ np.linalg.inv(M) @ tmp_array)\n",
    "\n",
    "dp_array = delta_star / np.array(tmp, dtype='float')\n",
    "dp_array"
   ]
  },
  {
   "cell_type": "code",
   "execution_count": 12,
   "metadata": {},
   "outputs": [],
   "source": [
    "discounted_price_pseudoinverse = pd.Series(dtype='float')\n",
    "last_p = 1.0\n",
    "for i in range(len(dp_array)):\n",
    "    t = t_set[i]\n",
    "    dp = dp_array[i]\n",
    "    p = last_p + dp\n",
    "    discounted_price_pseudoinverse[t] = p\n",
    "    last_p = p\n"
   ]
  },
  {
   "cell_type": "code",
   "execution_count": 13,
   "metadata": {},
   "outputs": [
    {
     "data": {
      "text/plain": [
       "[<matplotlib.lines.Line2D at 0x21c521e2d88>]"
      ]
     },
     "execution_count": 13,
     "metadata": {},
     "output_type": "execute_result"
    },
    {
     "data": {
      "image/png": "[encoded data removed]",
      "text/plain": [
       "<Figure size 432x288 with 1 Axes>"
      ]
     },
     "metadata": {
      "needs_background": "light"
     },
     "output_type": "display_data"
    }
   ],
   "source": [
    "from matplotlib import pyplot as plt\n",
    "plt.plot(discounted_price_pseudoinverse)"
   ]
  },
  {
   "cell_type": "code",
   "execution_count": 14,
   "metadata": {},
   "outputs": [
    {
     "data": {
      "text/plain": [
       "2012-10-04    0.999997\n",
       "2012-11-05    0.999894\n",
       "2013-01-03    0.999430\n",
       "2013-03-19    0.997839\n",
       "2013-04-03    0.997791\n",
       "2013-06-19    0.997294\n",
       "2013-09-18    0.996669\n",
       "2013-10-03    0.996546\n",
       "2013-12-18    0.995972\n",
       "2014-03-19    0.995139\n",
       "2014-10-03    0.990431\n",
       "2015-10-05    0.982326\n",
       "2016-10-03    0.969945\n",
       "2017-10-03    0.953247\n",
       "2018-10-03    0.931234\n",
       "2019-10-03    0.909576\n",
       "2020-10-03    0.884499\n",
       "2021-10-03    0.859897\n",
       "2022-10-03    0.835700\n",
       "2023-10-03    0.810089\n",
       "2024-10-03    0.784847\n",
       "2025-10-03    0.760112\n",
       "2026-10-03    0.735814\n",
       "2027-10-04    0.711888\n",
       "2028-10-04    0.692927\n",
       "2029-10-04    0.674357\n",
       "2030-10-04    0.656125\n",
       "2031-10-04    0.638230\n",
       "2032-10-04    0.620626\n",
       "2033-10-04    0.605635\n",
       "2034-10-04    0.590931\n",
       "2035-10-04    0.576513\n",
       "2036-10-04    0.562343\n",
       "2037-10-04    0.548499\n",
       "2038-10-04    0.534942\n",
       "2039-10-04    0.521671\n",
       "2040-10-04    0.508652\n",
       "2041-10-04    0.495956\n",
       "2042-10-03    0.483580\n",
       "dtype: float64"
      ]
     },
     "execution_count": 14,
     "metadata": {},
     "output_type": "execute_result"
    }
   ],
   "source": [
    "discounted_price_pseudoinverse"
   ]
  },
  {
   "cell_type": "markdown",
   "metadata": {},
   "source": [
    "## Question\n",
    "\n",
    "Build the discount curve using the pseudoinverse method explained in the lecture. Report the simple forward rate over the future period October 4, 2041 to October 3, 2042. Express your answer in percentage points and round to 2 decimal places.  "
   ]
  },
  {
   "cell_type": "code",
   "execution_count": 15,
   "metadata": {},
   "outputs": [
    {
     "name": "stdout",
     "output_type": "stream",
     "text": [
      "2.53\n"
     ]
    }
   ],
   "source": [
    "p1, p2 = discounted_price_pseudoinverse.values[-2], discounted_price_pseudoinverse.values[-1]\n",
    "t1, t2 = discounted_price_pseudoinverse.index[-2], discounted_price_pseudoinverse.index[-1]\n",
    "dt = (t2 - t1).days / 360\n",
    "r = (p1 / p2 - 1) / dt\n",
    "print(f\"{r * 100:.3}\")"
   ]
  },
  {
   "cell_type": "code",
   "execution_count": null,
   "metadata": {},
   "outputs": [],
   "source": []
  }
 ],
 "metadata": {
  "kernelspec": {
   "display_name": "Python 3",
   "language": "python",
   "name": "python3"
  },
  "language_info": {
   "codemirror_mode": {
    "name": "ipython",
    "version": 3
   },
   "file_extension": ".py",
   "mimetype": "text/x-python",
   "name": "python",
   "nbconvert_exporter": "python",
   "pygments_lexer": "ipython3",
   "version": "3.7.7"
  },
  "toc": {
   "base_numbering": 1,
   "nav_menu": {},
   "number_sections": true,
   "sideBar": true,
   "skip_h1_title": false,
   "title_cell": "Table of Contents",
   "title_sidebar": "Contents",
   "toc_cell": false,
   "toc_position": {},
   "toc_section_display": true,
   "toc_window_display": true
  }
 },
 "nbformat": 4,
 "nbformat_minor": 2
}
